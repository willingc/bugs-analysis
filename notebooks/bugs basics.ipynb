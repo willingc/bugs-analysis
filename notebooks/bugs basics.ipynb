{
 "cells": [
  {
   "cell_type": "code",
   "execution_count": 15,
   "metadata": {},
   "outputs": [],
   "source": [
    "import pandas as pd\n",
    "import numpy as np"
   ]
  },
  {
   "cell_type": "code",
   "execution_count": 16,
   "metadata": {},
   "outputs": [
    {
     "data": {
      "text/html": [
       "<style>body {\n",
       "    margin: 0;\n",
       "    font-family: Helvetica;\n",
       "}\n",
       "table.dataframe {\n",
       "    border-collapse: collapse;\n",
       "    border: none;\n",
       "}\n",
       "table.dataframe tr {\n",
       "    border: none;\n",
       "}\n",
       "table.dataframe td, table.dataframe th {\n",
       "    margin: 0;\n",
       "    border: 1px solid white;\n",
       "    padding-left: 0.25em;\n",
       "    padding-right: 0.25em;\n",
       "}\n",
       "table.dataframe th:not(:empty) {\n",
       "    background-color: #fec;\n",
       "    text-align: left;\n",
       "    font-weight: normal;\n",
       "}\n",
       "table.dataframe tr:nth-child(2) th:empty {\n",
       "    border-left: none;\n",
       "    border-right: 1px dashed #888;\n",
       "}\n",
       "table.dataframe td {\n",
       "    border: 2px solid #ccf;\n",
       "    background-color: #f4f4ff;\n",
       "}\n",
       "h3 {\n",
       "    color: white;\n",
       "    background-color: black;\n",
       "    padding: 0.5em;\n",
       "}\n",
       "</style>"
      ],
      "text/plain": [
       "<IPython.core.display.HTML object>"
      ]
     },
     "execution_count": 16,
     "metadata": {},
     "output_type": "execute_result"
    }
   ],
   "source": [
    "from IPython.core.display import HTML\n",
    "css = open('../style-table.css').read() + open('../style-notebook.css').read()\n",
    "HTML('<style>{}</style>'.format(css))"
   ]
  },
  {
   "cell_type": "code",
   "execution_count": 17,
   "metadata": {},
   "outputs": [],
   "source": [
    "bugs = pd.read_csv('../data/2019-08-27-bpo.csv', ',')"
   ]
  },
  {
   "cell_type": "code",
   "execution_count": 18,
   "metadata": {},
   "outputs": [
    {
     "data": {
      "text/html": [
       "<div>\n",
       "<style scoped>\n",
       "    .dataframe tbody tr th:only-of-type {\n",
       "        vertical-align: middle;\n",
       "    }\n",
       "\n",
       "    .dataframe tbody tr th {\n",
       "        vertical-align: top;\n",
       "    }\n",
       "\n",
       "    .dataframe thead th {\n",
       "        text-align: right;\n",
       "    }\n",
       "</style>\n",
       "<table border=\"1\" class=\"dataframe\">\n",
       "  <thead>\n",
       "    <tr style=\"text-align: right;\">\n",
       "      <th></th>\n",
       "      <th>title</th>\n",
       "      <th>id</th>\n",
       "      <th>stage</th>\n",
       "      <th>creation</th>\n",
       "      <th>creator</th>\n",
       "      <th>activity</th>\n",
       "      <th>actor</th>\n",
       "      <th>nosy</th>\n",
       "      <th>type</th>\n",
       "      <th>components</th>\n",
       "      <th>versions</th>\n",
       "      <th>dependencies</th>\n",
       "      <th>assignee</th>\n",
       "      <th>keywords</th>\n",
       "      <th>priority</th>\n",
       "      <th>status</th>\n",
       "      <th>resolution</th>\n",
       "      <th>nosy_count</th>\n",
       "      <th>message_count</th>\n",
       "    </tr>\n",
       "  </thead>\n",
       "  <tbody>\n",
       "    <tr>\n",
       "      <td>0</td>\n",
       "      <td>ftplib Persistent data connection</td>\n",
       "      <td>2628</td>\n",
       "      <td>2</td>\n",
       "      <td>2008-04-13.23:50:10</td>\n",
       "      <td>6840</td>\n",
       "      <td>2010-08-07.16:33:11</td>\n",
       "      <td>155</td>\n",
       "      <td>['252', '3080', '6840']</td>\n",
       "      <td>6</td>\n",
       "      <td>['9']</td>\n",
       "      <td>['16']</td>\n",
       "      <td>[]</td>\n",
       "      <td>None</td>\n",
       "      <td>['2']</td>\n",
       "      <td>4</td>\n",
       "      <td>1</td>\n",
       "      <td>None</td>\n",
       "      <td>3.0</td>\n",
       "      <td>7.0</td>\n",
       "    </tr>\n",
       "    <tr>\n",
       "      <td>1</td>\n",
       "      <td>Improved doctest REPORT_*DIFFs with ELLIPSIS a...</td>\n",
       "      <td>9640</td>\n",
       "      <td>None</td>\n",
       "      <td>2010-08-19.11:04:09</td>\n",
       "      <td>10930</td>\n",
       "      <td>2010-08-19.11:06:03</td>\n",
       "      <td>10930</td>\n",
       "      <td>['10930']</td>\n",
       "      <td>6</td>\n",
       "      <td>['9']</td>\n",
       "      <td>['14']</td>\n",
       "      <td>[]</td>\n",
       "      <td>None</td>\n",
       "      <td>['2']</td>\n",
       "      <td>4</td>\n",
       "      <td>1</td>\n",
       "      <td>None</td>\n",
       "      <td>1.0</td>\n",
       "      <td>2.0</td>\n",
       "    </tr>\n",
       "    <tr>\n",
       "      <td>2</td>\n",
       "      <td>Explain the default timeout in http-client-rel...</td>\n",
       "      <td>8595</td>\n",
       "      <td>None</td>\n",
       "      <td>2010-05-02.02:54:42</td>\n",
       "      <td>12311</td>\n",
       "      <td>2010-08-19.13:16:45</td>\n",
       "      <td>2799</td>\n",
       "      <td>['1741', '2040', '2799', '12260', '12311', '12...</td>\n",
       "      <td>5</td>\n",
       "      <td>['4', '9']</td>\n",
       "      <td>['1', '13', '14']</td>\n",
       "      <td>[]</td>\n",
       "      <td>12260</td>\n",
       "      <td>[]</td>\n",
       "      <td>4</td>\n",
       "      <td>1</td>\n",
       "      <td>None</td>\n",
       "      <td>6.0</td>\n",
       "      <td>7.0</td>\n",
       "    </tr>\n",
       "    <tr>\n",
       "      <td>3</td>\n",
       "      <td>Encodings and aliases do not match runtime</td>\n",
       "      <td>1249749</td>\n",
       "      <td>None</td>\n",
       "      <td>2005-08-01.18:23:30</td>\n",
       "      <td>2094</td>\n",
       "      <td>2010-08-21.18:46:24</td>\n",
       "      <td>12545</td>\n",
       "      <td>['4', '8', '93', '2094', '12260']</td>\n",
       "      <td>6</td>\n",
       "      <td>['4']</td>\n",
       "      <td>['16']</td>\n",
       "      <td>[]</td>\n",
       "      <td>12260</td>\n",
       "      <td>[]</td>\n",
       "      <td>5</td>\n",
       "      <td>1</td>\n",
       "      <td>None</td>\n",
       "      <td>5.0</td>\n",
       "      <td>11.0</td>\n",
       "    </tr>\n",
       "    <tr>\n",
       "      <td>4</td>\n",
       "      <td>distutils extension library path bug on cygwin</td>\n",
       "      <td>1289136</td>\n",
       "      <td>3</td>\n",
       "      <td>2005-09-12.22:04:55</td>\n",
       "      <td>2347</td>\n",
       "      <td>2010-08-21.19:27:33</td>\n",
       "      <td>12545</td>\n",
       "      <td>['35', '71', '2347', '4555']</td>\n",
       "      <td>5</td>\n",
       "      <td>['3']</td>\n",
       "      <td>['13', '14', '16']</td>\n",
       "      <td>[]</td>\n",
       "      <td>4555</td>\n",
       "      <td>[]</td>\n",
       "      <td>4</td>\n",
       "      <td>1</td>\n",
       "      <td>None</td>\n",
       "      <td>4.0</td>\n",
       "      <td>6.0</td>\n",
       "    </tr>\n",
       "  </tbody>\n",
       "</table>\n",
       "</div>"
      ],
      "text/plain": [
       "                                               title       id stage  \\\n",
       "0                  ftplib Persistent data connection     2628     2   \n",
       "1  Improved doctest REPORT_*DIFFs with ELLIPSIS a...     9640  None   \n",
       "2  Explain the default timeout in http-client-rel...     8595  None   \n",
       "3         Encodings and aliases do not match runtime  1249749  None   \n",
       "4     distutils extension library path bug on cygwin  1289136     3   \n",
       "\n",
       "              creation  creator             activity  actor  \\\n",
       "0  2008-04-13.23:50:10     6840  2010-08-07.16:33:11    155   \n",
       "1  2010-08-19.11:04:09    10930  2010-08-19.11:06:03  10930   \n",
       "2  2010-05-02.02:54:42    12311  2010-08-19.13:16:45   2799   \n",
       "3  2005-08-01.18:23:30     2094  2010-08-21.18:46:24  12545   \n",
       "4  2005-09-12.22:04:55     2347  2010-08-21.19:27:33  12545   \n",
       "\n",
       "                                                nosy type  components  \\\n",
       "0                            ['252', '3080', '6840']    6       ['9']   \n",
       "1                                          ['10930']    6       ['9']   \n",
       "2  ['1741', '2040', '2799', '12260', '12311', '12...    5  ['4', '9']   \n",
       "3                  ['4', '8', '93', '2094', '12260']    6       ['4']   \n",
       "4                       ['35', '71', '2347', '4555']    5       ['3']   \n",
       "\n",
       "             versions dependencies assignee keywords priority  status  \\\n",
       "0              ['16']           []     None    ['2']        4       1   \n",
       "1              ['14']           []     None    ['2']        4       1   \n",
       "2   ['1', '13', '14']           []    12260       []        4       1   \n",
       "3              ['16']           []    12260       []        5       1   \n",
       "4  ['13', '14', '16']           []     4555       []        4       1   \n",
       "\n",
       "  resolution  nosy_count message_count  \n",
       "0       None         3.0           7.0  \n",
       "1       None         1.0           2.0  \n",
       "2       None         6.0           7.0  \n",
       "3       None         5.0          11.0  \n",
       "4       None         4.0           6.0  "
      ]
     },
     "execution_count": 18,
     "metadata": {},
     "output_type": "execute_result"
    }
   ],
   "source": [
    "bugs.head()"
   ]
  },
  {
   "cell_type": "code",
   "execution_count": 19,
   "metadata": {},
   "outputs": [
    {
     "data": {
      "text/html": [
       "<div>\n",
       "<style scoped>\n",
       "    .dataframe tbody tr th:only-of-type {\n",
       "        vertical-align: middle;\n",
       "    }\n",
       "\n",
       "    .dataframe tbody tr th {\n",
       "        vertical-align: top;\n",
       "    }\n",
       "\n",
       "    .dataframe thead th {\n",
       "        text-align: right;\n",
       "    }\n",
       "</style>\n",
       "<table border=\"1\" class=\"dataframe\">\n",
       "  <thead>\n",
       "    <tr style=\"text-align: right;\">\n",
       "      <th></th>\n",
       "      <th>title</th>\n",
       "      <th>id</th>\n",
       "      <th>stage</th>\n",
       "      <th>creation</th>\n",
       "      <th>creator</th>\n",
       "      <th>activity</th>\n",
       "      <th>actor</th>\n",
       "      <th>nosy</th>\n",
       "      <th>type</th>\n",
       "      <th>components</th>\n",
       "      <th>versions</th>\n",
       "      <th>dependencies</th>\n",
       "      <th>assignee</th>\n",
       "      <th>keywords</th>\n",
       "      <th>priority</th>\n",
       "      <th>status</th>\n",
       "      <th>resolution</th>\n",
       "      <th>nosy_count</th>\n",
       "      <th>message_count</th>\n",
       "    </tr>\n",
       "  </thead>\n",
       "  <tbody>\n",
       "    <tr>\n",
       "      <td>7036</td>\n",
       "      <td>shutil.which wrong result on Windows</td>\n",
       "      <td>24505</td>\n",
       "      <td>None</td>\n",
       "      <td>2015-06-24.22:09:39</td>\n",
       "      <td>17566</td>\n",
       "      <td>2019-08-27.20:43:10</td>\n",
       "      <td>15487</td>\n",
       "      <td>['301', '2377', '3951', '9663', '15467', '1548...</td>\n",
       "      <td>5</td>\n",
       "      <td>['9', '15']</td>\n",
       "      <td>['20']</td>\n",
       "      <td>[]</td>\n",
       "      <td>None</td>\n",
       "      <td>['2']</td>\n",
       "      <td>4</td>\n",
       "      <td>1</td>\n",
       "      <td>None</td>\n",
       "      <td>11.0</td>\n",
       "      <td>19.0</td>\n",
       "    </tr>\n",
       "    <tr>\n",
       "      <td>7037</td>\n",
       "      <td>shutil.which doesn't find files without PATHEX...</td>\n",
       "      <td>31405</td>\n",
       "      <td>None</td>\n",
       "      <td>2017-09-09.18:12:09</td>\n",
       "      <td>19707</td>\n",
       "      <td>2019-08-27.20:45:37</td>\n",
       "      <td>15487</td>\n",
       "      <td>['301', '3951', '15467', '15487', '15623', '16...</td>\n",
       "      <td>5</td>\n",
       "      <td>['9', '15']</td>\n",
       "      <td>['22']</td>\n",
       "      <td>[]</td>\n",
       "      <td>None</td>\n",
       "      <td>[]</td>\n",
       "      <td>4</td>\n",
       "      <td>1</td>\n",
       "      <td>None</td>\n",
       "      <td>9.0</td>\n",
       "      <td>8.0</td>\n",
       "    </tr>\n",
       "    <tr>\n",
       "      <td>7038</td>\n",
       "      <td>shutil.make_archive (xxx, tar, root_dir) is ad...</td>\n",
       "      <td>35964</td>\n",
       "      <td>4</td>\n",
       "      <td>2019-02-11.12:40:46</td>\n",
       "      <td>30518</td>\n",
       "      <td>2019-08-27.20:46:19</td>\n",
       "      <td>15487</td>\n",
       "      <td>['14', '1488', '1669', '4555', '13902', '15487...</td>\n",
       "      <td>None</td>\n",
       "      <td>['9']</td>\n",
       "      <td>['14', '20', '21']</td>\n",
       "      <td>[]</td>\n",
       "      <td>None</td>\n",
       "      <td>['2']</td>\n",
       "      <td>4</td>\n",
       "      <td>1</td>\n",
       "      <td>None</td>\n",
       "      <td>10.0</td>\n",
       "      <td>2.0</td>\n",
       "    </tr>\n",
       "    <tr>\n",
       "      <td>7039</td>\n",
       "      <td>CCompiler has_function displays warning</td>\n",
       "      <td>37965</td>\n",
       "      <td>None</td>\n",
       "      <td>2019-08-27.20:47:14</td>\n",
       "      <td>32216</td>\n",
       "      <td>2019-08-27.20:47:14</td>\n",
       "      <td>32216</td>\n",
       "      <td>['7641', '17248', '32216']</td>\n",
       "      <td>5</td>\n",
       "      <td>['3']</td>\n",
       "      <td>['19', '20', '21', '22', '23']</td>\n",
       "      <td>[]</td>\n",
       "      <td>None</td>\n",
       "      <td>['2']</td>\n",
       "      <td>4</td>\n",
       "      <td>1</td>\n",
       "      <td>None</td>\n",
       "      <td>3.0</td>\n",
       "      <td>1.0</td>\n",
       "    </tr>\n",
       "    <tr>\n",
       "      <td>7040</td>\n",
       "      <td>Disallow fork in a subinterpreter broke subpro...</td>\n",
       "      <td>37951</td>\n",
       "      <td>4</td>\n",
       "      <td>2019-08-26.08:42:32</td>\n",
       "      <td>3108</td>\n",
       "      <td>2019-08-27.21:37:28</td>\n",
       "      <td>27838</td>\n",
       "      <td>['252', '2377', '3108', '12704', '14000']</td>\n",
       "      <td>5</td>\n",
       "      <td>['5', '8']</td>\n",
       "      <td>['22', '23']</td>\n",
       "      <td>[]</td>\n",
       "      <td>14000</td>\n",
       "      <td>['2', '21']</td>\n",
       "      <td>1</td>\n",
       "      <td>1</td>\n",
       "      <td>None</td>\n",
       "      <td>5.0</td>\n",
       "      <td>7.0</td>\n",
       "    </tr>\n",
       "  </tbody>\n",
       "</table>\n",
       "</div>"
      ],
      "text/plain": [
       "                                                  title     id stage  \\\n",
       "7036               shutil.which wrong result on Windows  24505  None   \n",
       "7037  shutil.which doesn't find files without PATHEX...  31405  None   \n",
       "7038  shutil.make_archive (xxx, tar, root_dir) is ad...  35964     4   \n",
       "7039            CCompiler has_function displays warning  37965  None   \n",
       "7040  Disallow fork in a subinterpreter broke subpro...  37951     4   \n",
       "\n",
       "                 creation  creator             activity  actor  \\\n",
       "7036  2015-06-24.22:09:39    17566  2019-08-27.20:43:10  15487   \n",
       "7037  2017-09-09.18:12:09    19707  2019-08-27.20:45:37  15487   \n",
       "7038  2019-02-11.12:40:46    30518  2019-08-27.20:46:19  15487   \n",
       "7039  2019-08-27.20:47:14    32216  2019-08-27.20:47:14  32216   \n",
       "7040  2019-08-26.08:42:32     3108  2019-08-27.21:37:28  27838   \n",
       "\n",
       "                                                   nosy  type   components  \\\n",
       "7036  ['301', '2377', '3951', '9663', '15467', '1548...     5  ['9', '15']   \n",
       "7037  ['301', '3951', '15467', '15487', '15623', '16...     5  ['9', '15']   \n",
       "7038  ['14', '1488', '1669', '4555', '13902', '15487...  None        ['9']   \n",
       "7039                         ['7641', '17248', '32216']     5        ['3']   \n",
       "7040          ['252', '2377', '3108', '12704', '14000']     5   ['5', '8']   \n",
       "\n",
       "                            versions dependencies assignee     keywords  \\\n",
       "7036                          ['20']           []     None        ['2']   \n",
       "7037                          ['22']           []     None           []   \n",
       "7038              ['14', '20', '21']           []     None        ['2']   \n",
       "7039  ['19', '20', '21', '22', '23']           []     None        ['2']   \n",
       "7040                    ['22', '23']           []    14000  ['2', '21']   \n",
       "\n",
       "     priority  status resolution  nosy_count message_count  \n",
       "7036        4       1       None        11.0          19.0  \n",
       "7037        4       1       None         9.0           8.0  \n",
       "7038        4       1       None        10.0           2.0  \n",
       "7039        4       1       None         3.0           1.0  \n",
       "7040        1       1       None         5.0           7.0  "
      ]
     },
     "execution_count": 19,
     "metadata": {},
     "output_type": "execute_result"
    }
   ],
   "source": [
    "bugs.tail()"
   ]
  },
  {
   "cell_type": "code",
   "execution_count": 20,
   "metadata": {},
   "outputs": [
    {
     "data": {
      "text/plain": [
       "title            7041\n",
       "id               7041\n",
       "stage            7041\n",
       "creation         7041\n",
       "creator          7041\n",
       "activity         7041\n",
       "actor            7041\n",
       "nosy             7041\n",
       "type             7041\n",
       "components       7041\n",
       "versions         7041\n",
       "dependencies     7041\n",
       "assignee         7041\n",
       "keywords         7041\n",
       "priority         7041\n",
       "status           7041\n",
       "resolution       7041\n",
       "nosy_count       7041\n",
       "message_count    7041\n",
       "dtype: int64"
      ]
     },
     "execution_count": 20,
     "metadata": {},
     "output_type": "execute_result"
    }
   ],
   "source": [
    "bugs.count()"
   ]
  },
  {
   "cell_type": "code",
   "execution_count": 21,
   "metadata": {},
   "outputs": [
    {
     "data": {
      "text/plain": [
       "(7041, 19)"
      ]
     },
     "execution_count": 21,
     "metadata": {},
     "output_type": "execute_result"
    }
   ],
   "source": [
    "bugs.shape"
   ]
  },
  {
   "cell_type": "code",
   "execution_count": 22,
   "metadata": {},
   "outputs": [
    {
     "data": {
      "text/html": [
       "<div>\n",
       "<style scoped>\n",
       "    .dataframe tbody tr th:only-of-type {\n",
       "        vertical-align: middle;\n",
       "    }\n",
       "\n",
       "    .dataframe tbody tr th {\n",
       "        vertical-align: top;\n",
       "    }\n",
       "\n",
       "    .dataframe thead th {\n",
       "        text-align: right;\n",
       "    }\n",
       "</style>\n",
       "<table border=\"1\" class=\"dataframe\">\n",
       "  <thead>\n",
       "    <tr style=\"text-align: right;\">\n",
       "      <th></th>\n",
       "      <th>id</th>\n",
       "      <th>creator</th>\n",
       "      <th>actor</th>\n",
       "      <th>status</th>\n",
       "      <th>nosy_count</th>\n",
       "    </tr>\n",
       "  </thead>\n",
       "  <tbody>\n",
       "    <tr>\n",
       "      <td>count</td>\n",
       "      <td>7.041000e+03</td>\n",
       "      <td>7041.000000</td>\n",
       "      <td>7041.000000</td>\n",
       "      <td>7041.0</td>\n",
       "      <td>7041.000000</td>\n",
       "    </tr>\n",
       "    <tr>\n",
       "      <td>mean</td>\n",
       "      <td>6.010933e+04</td>\n",
       "      <td>15275.218719</td>\n",
       "      <td>14217.386735</td>\n",
       "      <td>1.0</td>\n",
       "      <td>4.834114</td>\n",
       "    </tr>\n",
       "    <tr>\n",
       "      <td>std</td>\n",
       "      <td>2.165050e+05</td>\n",
       "      <td>9852.099457</td>\n",
       "      <td>9889.237095</td>\n",
       "      <td>0.0</td>\n",
       "      <td>3.178547</td>\n",
       "    </tr>\n",
       "    <tr>\n",
       "      <td>min</td>\n",
       "      <td>1.034000e+03</td>\n",
       "      <td>3.000000</td>\n",
       "      <td>1.000000</td>\n",
       "      <td>1.0</td>\n",
       "      <td>1.000000</td>\n",
       "    </tr>\n",
       "    <tr>\n",
       "      <td>25%</td>\n",
       "      <td>1.845400e+04</td>\n",
       "      <td>5494.000000</td>\n",
       "      <td>4455.000000</td>\n",
       "      <td>1.0</td>\n",
       "      <td>3.000000</td>\n",
       "    </tr>\n",
       "    <tr>\n",
       "      <td>50%</td>\n",
       "      <td>2.688200e+04</td>\n",
       "      <td>15623.000000</td>\n",
       "      <td>14674.000000</td>\n",
       "      <td>1.0</td>\n",
       "      <td>4.000000</td>\n",
       "    </tr>\n",
       "    <tr>\n",
       "      <td>75%</td>\n",
       "      <td>3.364700e+04</td>\n",
       "      <td>23834.000000</td>\n",
       "      <td>22884.000000</td>\n",
       "      <td>1.0</td>\n",
       "      <td>6.000000</td>\n",
       "    </tr>\n",
       "    <tr>\n",
       "      <td>max</td>\n",
       "      <td>1.778410e+06</td>\n",
       "      <td>32216.000000</td>\n",
       "      <td>32216.000000</td>\n",
       "      <td>1.0</td>\n",
       "      <td>45.000000</td>\n",
       "    </tr>\n",
       "  </tbody>\n",
       "</table>\n",
       "</div>"
      ],
      "text/plain": [
       "                 id       creator         actor  status   nosy_count\n",
       "count  7.041000e+03   7041.000000   7041.000000  7041.0  7041.000000\n",
       "mean   6.010933e+04  15275.218719  14217.386735     1.0     4.834114\n",
       "std    2.165050e+05   9852.099457   9889.237095     0.0     3.178547\n",
       "min    1.034000e+03      3.000000      1.000000     1.0     1.000000\n",
       "25%    1.845400e+04   5494.000000   4455.000000     1.0     3.000000\n",
       "50%    2.688200e+04  15623.000000  14674.000000     1.0     4.000000\n",
       "75%    3.364700e+04  23834.000000  22884.000000     1.0     6.000000\n",
       "max    1.778410e+06  32216.000000  32216.000000     1.0    45.000000"
      ]
     },
     "execution_count": 22,
     "metadata": {},
     "output_type": "execute_result"
    }
   ],
   "source": [
    "bugs.describe()"
   ]
  },
  {
   "cell_type": "code",
   "execution_count": 23,
   "metadata": {},
   "outputs": [
    {
     "data": {
      "text/plain": [
       "'2001-06-14.08:30:56'"
      ]
     },
     "execution_count": 23,
     "metadata": {},
     "output_type": "execute_result"
    }
   ],
   "source": [
    "bugs.creation.min()"
   ]
  },
  {
   "cell_type": "code",
   "execution_count": 24,
   "metadata": {},
   "outputs": [
    {
     "data": {
      "text/plain": [
       "'2019-08-27.20:47:14'"
      ]
     },
     "execution_count": 24,
     "metadata": {},
     "output_type": "execute_result"
    }
   ],
   "source": [
    "bugs.creation.max()"
   ]
  },
  {
   "cell_type": "code",
   "execution_count": 25,
   "metadata": {},
   "outputs": [
    {
     "data": {
      "text/plain": [
       "pandas.core.series.Series"
      ]
     },
     "execution_count": 25,
     "metadata": {},
     "output_type": "execute_result"
    }
   ],
   "source": [
    "type(bugs.message_count)\n"
   ]
  },
  {
   "cell_type": "code",
   "execution_count": 26,
   "metadata": {},
   "outputs": [
    {
     "data": {
      "text/plain": [
       "count                    7041\n",
       "unique                   7038\n",
       "top       2019-05-31.08:30:40\n",
       "freq                        2\n",
       "Name: activity, dtype: object"
      ]
     },
     "execution_count": 26,
     "metadata": {},
     "output_type": "execute_result"
    }
   ],
   "source": [
    "bugs.activity.describe()"
   ]
  },
  {
   "cell_type": "code",
   "execution_count": 13,
   "metadata": {},
   "outputs": [
    {
     "data": {
      "text/plain": [
       "'2010-08-07.16:33:11'"
      ]
     },
     "execution_count": 13,
     "metadata": {},
     "output_type": "execute_result"
    }
   ],
   "source": [
    "bugs.activity.min()"
   ]
  },
  {
   "cell_type": "code",
   "execution_count": 14,
   "metadata": {},
   "outputs": [
    {
     "data": {
      "text/plain": [
       "'2019-08-27.21:37:28'"
      ]
     },
     "execution_count": 14,
     "metadata": {},
     "output_type": "execute_result"
    }
   ],
   "source": [
    "bugs.activity.max()"
   ]
  },
  {
   "cell_type": "code",
   "execution_count": null,
   "metadata": {
    "scrolled": true
   },
   "outputs": [],
   "source": []
  },
  {
   "cell_type": "code",
   "execution_count": null,
   "metadata": {},
   "outputs": [],
   "source": []
  }
 ],
 "metadata": {
  "kernelspec": {
   "display_name": "Python 3",
   "language": "python",
   "name": "python3"
  },
  "language_info": {
   "codemirror_mode": {
    "name": "ipython",
    "version": 3
   },
   "file_extension": ".py",
   "mimetype": "text/x-python",
   "name": "python",
   "nbconvert_exporter": "python",
   "pygments_lexer": "ipython3",
   "version": "3.7.3"
  },
  "latex_envs": {
   "LaTeX_envs_menu_present": true,
   "autoclose": false,
   "autocomplete": true,
   "bibliofile": "biblio.bib",
   "cite_by": "apalike",
   "current_citInitial": 1,
   "eqLabelWithNumbers": true,
   "eqNumInitial": 1,
   "hotkeys": {
    "equation": "Ctrl-E",
    "itemize": "Ctrl-I"
   },
   "labels_anchors": false,
   "latex_user_defs": false,
   "report_style_numbering": false,
   "user_envs_cfg": false
  }
 },
 "nbformat": 4,
 "nbformat_minor": 2
}
